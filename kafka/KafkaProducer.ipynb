{
 "cells": [
  {
   "cell_type": "code",
   "execution_count": 1,
   "id": "8ce49450",
   "metadata": {},
   "outputs": [],
   "source": [
    "import findspark\n",
    "findspark.init()"
   ]
  },
  {
   "cell_type": "code",
   "execution_count": 2,
   "id": "18e68b44",
   "metadata": {},
   "outputs": [
    {
     "name": "stdout",
     "output_type": "stream",
     "text": [
      "1\n"
     ]
    },
    {
     "name": "stderr",
     "output_type": "stream",
     "text": [
      "C:\\Users\\Acer\\AppData\\Local\\Temp\\ipykernel_10020\\932090212.py:2: DeprecationWarning: \n",
      "Pyarrow will become a required dependency of pandas in the next major release of pandas (pandas 3.0),\n",
      "(to allow more performant data types, such as the Arrow string type, and better interoperability with other libraries)\n",
      "but was not found to be installed on your system.\n",
      "If this would cause problems for you,\n",
      "please provide us feedback at https://github.com/pandas-dev/pandas/issues/54466\n",
      "        \n",
      "  import pandas as pd # data processing, CSV file I/O (e.g. pd.read_csv)\n"
     ]
    }
   ],
   "source": [
    "from kafka import KafkaProducer\n",
    "import pandas as pd # data processing, CSV file I/O (e.g. pd.read_csv)\n",
    "from json import dumps\n",
    "from time import sleep\n",
    "from random import seed\n",
    "from random import randint\n",
    "\n",
    "topic_name = 'FakeNewDT'\n",
    "kafka_server = 'localhost:9092'\n",
    "\n",
    "producer = KafkaProducer(bootstrap_servers=kafka_server,value_serializer = lambda x:dumps(x).encode('utf-8'))\n",
    "\n",
    "\n",
    "seed(1)\n",
    "data = pd.read_csv('../datasets/test.csv')\n",
    "data = data.head(1)\n",
    "# Assuming 'df' is your DataFrame\n",
    "# Selecting two columns: \"column1\" and \"column2\"\n",
    "selected_columns_df = data[[\"post_message\", \"label\"]]\n",
    "\n",
    "data = selected_columns_df\n",
    "print(len(data))\n",
    "\n",
    "for i in range(2):\n",
    "    for index, row in data.iterrows():\n",
    "        # Convert the row to a dictionary and then to JSON\n",
    "        json_data = row.to_dict()\n",
    "        producer.send(topic_name, value=json_data)\n",
    "        # print(str(json_data) + \" sent\")\n",
    "\n",
    "producer.flush()"
   ]
  },
  {
   "cell_type": "code",
   "execution_count": 3,
   "id": "160c4f5b",
   "metadata": {},
   "outputs": [
    {
     "data": {
      "text/plain": [
       "486"
      ]
     },
     "execution_count": 3,
     "metadata": {},
     "output_type": "execute_result"
    }
   ],
   "source": [
    "data = pd.read_csv('../datasets/test.csv')\n",
    "# Assuming 'df' is your DataFrame\n",
    "# Selecting two columns: \"column1\" and \"column2\"\n",
    "selected_columns_df = data[[\"post_message\", \"label\"]]\n",
    "\n",
    "data = selected_columns_df\n",
    "len(data)"
   ]
  },
  {
   "cell_type": "code",
   "execution_count": null,
   "id": "9e24a6d4",
   "metadata": {},
   "outputs": [],
   "source": []
  }
 ],
 "metadata": {
  "kernelspec": {
   "display_name": "Python 3 (ipykernel)",
   "language": "python",
   "name": "python3"
  },
  "language_info": {
   "codemirror_mode": {
    "name": "ipython",
    "version": 3
   },
   "file_extension": ".py",
   "mimetype": "text/x-python",
   "name": "python",
   "nbconvert_exporter": "python",
   "pygments_lexer": "ipython3",
   "version": "3.9.5"
  }
 },
 "nbformat": 4,
 "nbformat_minor": 5
}
